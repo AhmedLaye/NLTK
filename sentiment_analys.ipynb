{
 "cells": [
  {
   "cell_type": "code",
   "execution_count": 2,
   "id": "a4790f51",
   "metadata": {},
   "outputs": [],
   "source": [
    "import nltk\n",
    "from nltk.corpus import stopwords\n",
    "from nltk.tokenize import word_tokenize\n",
    "from nltk.stem import WordNetLemmatizer\n",
    "from datasets import load_dataset\n",
    "from sklearn.feature_extraction.text import TfidfVectorizer\n",
    "from sklearn.linear_model import LogisticRegression\n",
    "import pickle\n",
    "import pandas as pd\n",
    "import matplotlib.pyplot as plt\n",
    "import seaborn as sn"
   ]
  },
  {
   "cell_type": "code",
   "execution_count": 3,
   "id": "867a6543",
   "metadata": {},
   "outputs": [],
   "source": [
    "dataset = load_dataset(\"allocine\")"
   ]
  },
  {
   "cell_type": "code",
   "execution_count": 4,
   "id": "36783678",
   "metadata": {},
   "outputs": [],
   "source": [
    "# Charger les mots positifs depuis le fichier\n",
    "with open(\"positive_word.txt\", \"r\") as f:\n",
    "    positive_words = f.read().splitlines()\n",
    "\n",
    "# Charger les mots négatifs depuis le fichier\n",
    "with open(\"negative_word.txt\", \"r\") as f:\n",
    "    negative_words = f.read().splitlines()"
   ]
  },
  {
   "cell_type": "code",
   "execution_count": 5,
   "id": "09882bd6",
   "metadata": {},
   "outputs": [],
   "source": [
    "\n",
    "# Diviser le dataset en données d'entraînement, de validation et de test\n",
    "train_texts = [example[\"review\"] for example in dataset[\"train\"]]\n",
    "train_labels = [example[\"label\"] for example in dataset[\"train\"]]\n",
    "test_texts = [example[\"review\"] for example in dataset[\"test\"]]\n",
    "test_labels = [example[\"label\"] for example in dataset[\"test\"]]\n"
   ]
  },
  {
   "cell_type": "code",
   "execution_count": 6,
   "id": "d7481c40",
   "metadata": {},
   "outputs": [
    {
     "name": "stdout",
     "output_type": "stream",
     "text": [
      "shape train (160000, 2)\n",
      "shape test (20000, 2)\n"
     ]
    }
   ],
   "source": [
    "# un DataFrame à partir de vos données d'entraînement et de test\n",
    "train_df = pd.DataFrame({'text': train_texts, 'label': train_labels})\n",
    "test_df = pd.DataFrame({'text': test_texts, 'label': test_labels})\n",
    "\n",
    "print(f\"shape train {train_df.shape}\")\n",
    "print(f\"shape test {test_df.shape}\")\n"
   ]
  },
  {
   "cell_type": "code",
   "execution_count": 7,
   "id": "6a628bca",
   "metadata": {},
   "outputs": [
    {
     "data": {
      "text/html": [
       "<div>\n",
       "<style scoped>\n",
       "    .dataframe tbody tr th:only-of-type {\n",
       "        vertical-align: middle;\n",
       "    }\n",
       "\n",
       "    .dataframe tbody tr th {\n",
       "        vertical-align: top;\n",
       "    }\n",
       "\n",
       "    .dataframe thead th {\n",
       "        text-align: right;\n",
       "    }\n",
       "</style>\n",
       "<table border=\"1\" class=\"dataframe\">\n",
       "  <thead>\n",
       "    <tr style=\"text-align: right;\">\n",
       "      <th></th>\n",
       "      <th>text</th>\n",
       "      <th>label</th>\n",
       "    </tr>\n",
       "  </thead>\n",
       "  <tbody>\n",
       "    <tr>\n",
       "      <th>0</th>\n",
       "      <td>Si vous cherchez du cinéma abrutissant à tous ...</td>\n",
       "      <td>0</td>\n",
       "    </tr>\n",
       "    <tr>\n",
       "      <th>1</th>\n",
       "      <td>Trash, re-trash et re-re-trash...! Une horreur...</td>\n",
       "      <td>0</td>\n",
       "    </tr>\n",
       "    <tr>\n",
       "      <th>2</th>\n",
       "      <td>Et si, dans les 5 premières minutes du film, l...</td>\n",
       "      <td>0</td>\n",
       "    </tr>\n",
       "  </tbody>\n",
       "</table>\n",
       "</div>"
      ],
      "text/plain": [
       "                                                text  label\n",
       "0  Si vous cherchez du cinéma abrutissant à tous ...      0\n",
       "1  Trash, re-trash et re-re-trash...! Une horreur...      0\n",
       "2  Et si, dans les 5 premières minutes du film, l...      0"
      ]
     },
     "execution_count": 7,
     "metadata": {},
     "output_type": "execute_result"
    }
   ],
   "source": [
    "train_df.head(3)"
   ]
  },
  {
   "cell_type": "code",
   "execution_count": 8,
   "id": "98275822",
   "metadata": {},
   "outputs": [
    {
     "data": {
      "text/plain": [
       "(79413, 2)"
      ]
     },
     "execution_count": 8,
     "metadata": {},
     "output_type": "execute_result"
    }
   ],
   "source": [
    "neg=train_df[train_df.label==0]\n",
    "neg.shape"
   ]
  },
  {
   "cell_type": "code",
   "execution_count": 9,
   "id": "cb1c38b3",
   "metadata": {},
   "outputs": [
    {
     "data": {
      "text/plain": [
       "(80587, 2)"
      ]
     },
     "execution_count": 9,
     "metadata": {},
     "output_type": "execute_result"
    }
   ],
   "source": [
    "pos=train_df[train_df.label==1]\n",
    "pos.shape"
   ]
  },
  {
   "cell_type": "code",
   "execution_count": 10,
   "id": "459c958b",
   "metadata": {
    "scrolled": true
   },
   "outputs": [
    {
     "data": {
      "image/png": "[encoded data removed]",
      "text/plain": [
       "<Figure size 600x300 with 1 Axes>"
      ]
     },
     "metadata": {},
     "output_type": "display_data"
    }
   ],
   "source": [
    "plt.figure(figsize=(6, 3))\n",
    "train_df['label'].value_counts().plot(kind='bar', color='skyblue')\n",
    "plt.title('Distribution des étiquettes de sentiment')\n",
    "plt.xlabel('Sentiment')\n",
    "plt.ylabel('Nombre d\\'exemples')\n",
    "plt.show()"
   ]
  },
  {
   "cell_type": "code",
   "execution_count": 11,
   "id": "2b8423c7",
   "metadata": {},
   "outputs": [],
   "source": [
    "# Vectoriser les données textuelles (utilisation de TF-IDF)\n",
    "vectorizer = TfidfVectorizer(max_features=5000)\n",
    "X_train = vectorizer.fit_transform(train_texts)\n",
    "X_test = vectorizer.transform(test_texts)"
   ]
  },
  {
   "cell_type": "code",
   "execution_count": 12,
   "id": "d8d05a0b",
   "metadata": {},
   "outputs": [],
   "source": [
    "# Tokenization et lemmatisation avec NLTK\n",
    "lemmatizer = WordNetLemmatizer()\n",
    "stop_words = set(stopwords.words('french'))"
   ]
  },
  {
   "cell_type": "code",
   "execution_count": 13,
   "id": "2cc11438",
   "metadata": {},
   "outputs": [],
   "source": [
    "def preprocess_text(text):\n",
    "    tokens = word_tokenize(text)\n",
    "    tokens = [lemmatizer.lemmatize(token) for token in tokens if token.isalnum()]\n",
    "    tokens = [token for token in tokens if token.lower() not in stop_words]\n",
    "    return \" \".join(tokens)"
   ]
  },
  {
   "cell_type": "code",
   "execution_count": 14,
   "id": "04424df2",
   "metadata": {},
   "outputs": [
    {
     "data": {
      "text/plain": [
       "LogisticRegression()"
      ]
     },
     "execution_count": 14,
     "metadata": {},
     "output_type": "execute_result"
    }
   ],
   "source": [
    "train_texts_preprocessed = [preprocess_text(text) for text in train_texts]\n",
    "test_texts_preprocessed = [preprocess_text(text) for text in test_texts]\n",
    "\n",
    "# Vectoriser les données textuelles avec TF-IDF en utilisant scikit-learn\n",
    "vectorizer = TfidfVectorizer(max_features=5000)\n",
    "X_train = vectorizer.fit_transform(train_texts_preprocessed)\n",
    "X_test = vectorizer.transform(test_texts_preprocessed)\n",
    "\n",
    "# Entraîner un modèle de régression logistique\n",
    "model = LogisticRegression()\n",
    "model.fit(X_train, train_labels)"
   ]
  },
  {
   "cell_type": "code",
   "execution_count": 15,
   "id": "dc25ac40",
   "metadata": {},
   "outputs": [],
   "source": [
    "# Enregistrer le modèle et le vectorizer en tant que fichiers pickle\n",
    "with open('model_vectorizer.pkl', 'wb') as file:\n",
    "    pickle.dump((model, vectorizer), file)\n",
    "\n",
    "# Charger le modèle et le vectorizer depuis le fichier pickle\n",
    "with open('model_vectorizer.pkl', 'rb') as file:\n",
    "    loaded_model, loaded_vectorizer = pickle.load(file)"
   ]
  },
  {
   "cell_type": "code",
   "execution_count": 16,
   "id": "c311fa87",
   "metadata": {},
   "outputs": [],
   "source": [
    "# Faire des prédictions sur les commentaires de test\n",
    "predictions = loaded_model.predict(X_test)"
   ]
  },
  {
   "cell_type": "code",
   "execution_count": 17,
   "id": "c2f859b7",
   "metadata": {},
   "outputs": [],
   "source": [
    "from sklearn.metrics import confusion_matrix\n",
    "from sklearn.metrics import f1_score"
   ]
  },
  {
   "cell_type": "code",
   "execution_count": 18,
   "id": "a8bcb186",
   "metadata": {},
   "outputs": [
    {
     "data": {
      "image/png": "[encoded data removed]",
      "text/plain": [
       "<Figure size 640x480 with 2 Axes>"
      ]
     },
     "metadata": {},
     "output_type": "display_data"
    }
   ],
   "source": [
    "sn.heatmap(confusion_matrix(test_labels, predictions), annot=True, fmt='d',cmap='Blues')  # Utilisez 'd' pour un format décimal\n",
    "plt.xlabel('Predicted Labels')\n",
    "plt.ylabel('True Labels')\n",
    "plt.show()"
   ]
  },
  {
   "cell_type": "code",
   "execution_count": 19,
   "id": "2eb54850",
   "metadata": {},
   "outputs": [
    {
     "name": "stdout",
     "output_type": "stream",
     "text": [
      "Exactitude : 0.91775\n",
      "Précision : 0.9111226073460942\n",
      "F-score : 0.9145765176299527\n"
     ]
    }
   ],
   "source": [
    "# Extrayez les valeurs TP, TN, FP et FN de la matrice de confusion\n",
    "TP = confusion_matrix(test_labels, predictions)[1, 1]\n",
    "TN = confusion_matrix(test_labels, predictions)[0, 0]\n",
    "FP = confusion_matrix(test_labels, predictions)[0, 1]\n",
    "FN = confusion_matrix(test_labels, predictions)[1, 0]\n",
    "\n",
    "# Calculez l'exactitude\n",
    "accuracy = (TP + TN) / (TP + TN + FP + FN)\n",
    "\n",
    "# Calculez la précision\n",
    "precision = TP / (TP + FP)\n",
    "#calcul de score f1\n",
    "f1 = f1_score(test_labels, predictions)\n",
    "\n",
    "print(f\"Exactitude : {accuracy}\")\n",
    "print(f\"Précision : {precision}\")\n",
    "print(f\"F-score : {f1}\")"
   ]
  },
  {
   "cell_type": "code",
   "execution_count": 21,
   "id": "87d6cbee",
   "metadata": {},
   "outputs": [
    {
     "name": "stdout",
     "output_type": "stream",
     "text": [
      "Saisissez un commentaire (ou 'exit' pour quitter) : ce président est trop null\n",
      "Sentiment prédit : Négatif\n",
      "Saisissez un commentaire (ou 'exit' pour quitter) : exit\n"
     ]
    }
   ],
   "source": [
    "# Saisir des commentaires en entrée et effectuer des prédictions\n",
    "while True:\n",
    "    input_comment = input(\"Saisissez un commentaire (ou 'exit' pour quitter) : \")\n",
    "    if input_comment.lower() == 'exit':\n",
    "        break\n",
    "    \n",
    "    input_comment_preprocessed = preprocess_text(input_comment)\n",
    "    input_comment_vectorized = loaded_vectorizer.transform([input_comment_preprocessed])\n",
    "    prediction = loaded_model.predict(input_comment_vectorized)[0]\n",
    "    \n",
    "    sentiment = \"Positif\" if prediction == 1 else \"Négatif\"\n",
    "    print(f\"Sentiment prédit : {sentiment}\")"
   ]
  }
 ],
 "metadata": {
  "kernelspec": {
   "display_name": "Python 3 (ipykernel)",
   "language": "python",
   "name": "python3"
  },
  "language_info": {
   "codemirror_mode": {
    "name": "ipython",
    "version": 3
   },
   "file_extension": ".py",
   "mimetype": "text/x-python",
   "name": "python",
   "nbconvert_exporter": "python",
   "pygments_lexer": "ipython3",
   "version": "3.9.13"
  }
 },
 "nbformat": 4,
 "nbformat_minor": 5
}
