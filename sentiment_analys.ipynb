{
 "cells": [
  {
   "cell_type": "code",
   "execution_count": 3,
   "id": "a4790f51",
   "metadata": {},
   "outputs": [],
   "source": [
    "import nltk\n",
    "from nltk.corpus import stopwords\n",
    "from nltk.tokenize import word_tokenize\n",
    "from nltk.stem import WordNetLemmatizer\n",
    "from datasets import load_dataset\n",
    "from sklearn.feature_extraction.text import TfidfVectorizer\n",
    "from sklearn.linear_model import LogisticRegression\n",
    "import pickle"
   ]
  },
  {
   "cell_type": "code",
   "execution_count": 4,
   "id": "867a6543",
   "metadata": {},
   "outputs": [],
   "source": [
    "dataset = load_dataset(\"allocine\")"
   ]
  },
  {
   "cell_type": "code",
   "execution_count": 5,
   "id": "36783678",
   "metadata": {},
   "outputs": [],
   "source": [
    "# Charger les mots positifs depuis le fichier\n",
    "with open(\"positive_word.txt\", \"r\") as f:\n",
    "    positive_words = f.read().splitlines()\n",
    "\n",
    "# Charger les mots négatifs depuis le fichier\n",
    "with open(\"negative_word.txt\", \"r\") as f:\n",
    "    negative_words = f.read().splitlines()"
   ]
  },
  {
   "cell_type": "code",
   "execution_count": 7,
   "id": "09882bd6",
   "metadata": {},
   "outputs": [],
   "source": [
    "\n",
    "# Diviser le dataset en données d'entraînement, de validation et de test\n",
    "train_texts = [example[\"review\"] for example in dataset[\"train\"]]\n",
    "train_labels = [example[\"label\"] for example in dataset[\"train\"]]\n",
    "test_texts = [example[\"review\"] for example in dataset[\"test\"]]\n",
    "test_labels = [example[\"label\"] for example in dataset[\"test\"]]\n"
   ]
  },
  {
   "cell_type": "code",
   "execution_count": 8,
   "id": "2b8423c7",
   "metadata": {},
   "outputs": [],
   "source": [
    "# Vectoriser les données textuelles (utilisation de TF-IDF)\n",
    "vectorizer = TfidfVectorizer(max_features=5000)\n",
    "X_train = vectorizer.fit_transform(train_texts)\n",
    "X_test = vectorizer.transform(test_texts)"
   ]
  },
  {
   "cell_type": "code",
   "execution_count": 9,
   "id": "d8d05a0b",
   "metadata": {},
   "outputs": [],
   "source": [
    "# Tokenization et lemmatisation avec NLTK\n",
    "lemmatizer = WordNetLemmatizer()\n",
    "stop_words = set(stopwords.words('french'))"
   ]
  },
  {
   "cell_type": "code",
   "execution_count": 10,
   "id": "2cc11438",
   "metadata": {},
   "outputs": [],
   "source": [
    "def preprocess_text(text):\n",
    "    tokens = word_tokenize(text)\n",
    "    tokens = [lemmatizer.lemmatize(token) for token in tokens if token.isalnum()]\n",
    "    tokens = [token for token in tokens if token.lower() not in stop_words]\n",
    "    return \" \".join(tokens)"
   ]
  },
  {
   "cell_type": "code",
   "execution_count": 11,
   "id": "04424df2",
   "metadata": {},
   "outputs": [
    {
     "data": {
      "text/plain": [
       "LogisticRegression()"
      ]
     },
     "execution_count": 11,
     "metadata": {},
     "output_type": "execute_result"
    }
   ],
   "source": [
    "train_texts_preprocessed = [preprocess_text(text) for text in train_texts]\n",
    "test_texts_preprocessed = [preprocess_text(text) for text in test_texts]\n",
    "\n",
    "# Vectoriser les données textuelles avec TF-IDF en utilisant scikit-learn\n",
    "vectorizer = TfidfVectorizer(max_features=5000)\n",
    "X_train = vectorizer.fit_transform(train_texts_preprocessed)\n",
    "X_test = vectorizer.transform(test_texts_preprocessed)\n",
    "\n",
    "# Entraîner un modèle de régression logistique\n",
    "model = LogisticRegression()\n",
    "model.fit(X_train, train_labels)"
   ]
  },
  {
   "cell_type": "code",
   "execution_count": null,
   "id": "03af9c37",
   "metadata": {},
   "outputs": [],
   "source": []
  },
  {
   "cell_type": "code",
   "execution_count": 42,
   "id": "dc25ac40",
   "metadata": {},
   "outputs": [],
   "source": [
    "# Enregistrer le modèle et le vectorizer en tant que fichiers pickle\n",
    "with open('model_vectorizer.pkl', 'wb') as file:\n",
    "    pickle.dump((model, vectorizer), file)\n",
    "\n",
    "# Charger le modèle et le vectorizer depuis le fichier pickle\n",
    "with open('model_vectorizer.pkl', 'rb') as file:\n",
    "    loaded_model, loaded_vectorizer = pickle.load(file)"
   ]
  },
  {
   "cell_type": "code",
   "execution_count": 51,
   "id": "c311fa87",
   "metadata": {},
   "outputs": [
    {
     "name": "stdout",
     "output_type": "stream",
     "text": [
      "Exactitude du modèle sur les données de test : 0.91775\n"
     ]
    }
   ],
   "source": [
    "# Faire des prédictions sur les commentaires de test\n",
    "predictions = loaded_model.predict(X_test)\n",
    "\n",
    "# Calculer et afficher l'exactitude du modèle sur les données de test\n",
    "accuracy = (predictions == test_labels).mean()\n",
    "print(f\"Exactitude du modèle sur les données de test : {accuracy}\")"
   ]
  },
  {
   "cell_type": "code",
   "execution_count": null,
   "id": "87d6cbee",
   "metadata": {},
   "outputs": [
    {
     "name": "stdout",
     "output_type": "stream",
     "text": [
      "Saisissez un commentaire (ou 'exit' pour quitter) : bon film\n",
      "Sentiment prédit : Positif\n",
      "Saisissez un commentaire (ou 'exit' pour quitter) : nul , c'est trop\n",
      "Sentiment prédit : Négatif\n",
      "Saisissez un commentaire (ou 'exit' pour quitter) : c'est trop cool \n",
      "Sentiment prédit : Négatif\n"
     ]
    }
   ],
   "source": [
    "# Saisir des commentaires en entrée et effectuer des prédictions\n",
    "while True:\n",
    "    input_comment = input(\"Saisissez un commentaire (ou 'exit' pour quitter) : \")\n",
    "    if input_comment.lower() == 'exit':\n",
    "        break\n",
    "    \n",
    "    input_comment_preprocessed = preprocess_text(input_comment)\n",
    "    input_comment_vectorized = loaded_vectorizer.transform([input_comment_preprocessed])\n",
    "    prediction = loaded_model.predict(input_comment_vectorized)[0]\n",
    "    \n",
    "    sentiment = \"Positif\" if prediction == 1 else \"Négatif\"\n",
    "    print(f\"Sentiment prédit : {sentiment}\")"
   ]
  },
  {
   "cell_type": "code",
   "execution_count": null,
   "id": "1d6aa9ba",
   "metadata": {},
   "outputs": [],
   "source": [
    " "
   ]
  },
  {
   "cell_type": "code",
   "execution_count": null,
   "id": "ac9db427",
   "metadata": {},
   "outputs": [],
   "source": []
  }
 ],
 "metadata": {
  "kernelspec": {
   "display_name": "Python 3 (ipykernel)",
   "language": "python",
   "name": "python3"
  },
  "language_info": {
   "codemirror_mode": {
    "name": "ipython",
    "version": 3
   },
   "file_extension": ".py",
   "mimetype": "text/x-python",
   "name": "python",
   "nbconvert_exporter": "python",
   "pygments_lexer": "ipython3",
   "version": "3.9.13"
  }
 },
 "nbformat": 4,
 "nbformat_minor": 5
}
